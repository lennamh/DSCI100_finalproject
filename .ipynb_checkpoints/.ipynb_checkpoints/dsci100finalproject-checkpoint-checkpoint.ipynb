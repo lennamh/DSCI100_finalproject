{
 "cells": [
  {
   "cell_type": "code",
   "execution_count": null,
   "id": "4e332bf6-6921-492a-b9cd-fec10bf45706",
   "metadata": {},
   "outputs": [],
   "source": [
    "my name is blablabla\n",
    "\n",
    "\n"
   ]
  }
 ],
 "metadata": {
  "kernelspec": {
   "display_name": "R",
   "language": "R",
   "name": "ir"
  },
  "language_info": {
   "codemirror_mode": "r",
   "file_extension": ".r",
   "mimetype": "text/x-r-source",
   "name": "R",
   "pygments_lexer": "r",
   "version": "4.3.3"
  }
 },
 "nbformat": 4,
 "nbformat_minor": 5
}
